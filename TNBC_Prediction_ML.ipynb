{
 "cells": [
  {
   "cell_type": "code",
   "execution_count": null,
   "id": "10e675e7",
   "metadata": {},
   "outputs": [],
   "source": [
    "import pandas as pd\n",
    "import numpy as np\n",
    "from pandas import read_csv\n",
    "from tensorflow.keras.models import Sequential\n",
    "from tensorflow.keras.layers import Dense\n",
    "from scikeras.wrappers import KerasClassifier\n",
    "from sklearn.model_selection import cross_val_score\n",
    "from sklearn.preprocessing import LabelEncoder\n",
    "from sklearn.model_selection import StratifiedKFold\n",
    "from sklearn.preprocessing import StandardScaler\n",
    "from tensorflow.keras.layers import Dropout\n",
    "from tensorflow.keras import regularizers\n",
    "from sklearn.model_selection import train_test_split"
   ]
  },
  {
   "cell_type": "code",
   "execution_count": null,
   "id": "16d560ec",
   "metadata": {},
   "outputs": [],
   "source": [
    "#Load data\n",
    "dataframe = pd.read_csv(\"GSE113865_series_matrix.txt\", delimiter='\\t')\n",
    "dataset=dataframe.values\n",
    "x1=dataset[:,1:7].astype(float)\n",
    "x1 = x1.T\n",
    "target=np.array([0,1,0,1,0,1])\n",
    "y=np.array([0,1,0,1,0,1])\n",
    "\n",
    "#Check the shape and range of the inputs/outputs to make sure everything matches\n",
    "x1.shape\n",
    "y.shape\n",
    "x1.max()\n",
    "x1.min()"
   ]
  },
  {
   "cell_type": "code",
   "execution_count": null,
   "id": "213e88b2",
   "metadata": {},
   "outputs": [],
   "source": [
    "#Conduct data normalization\n",
    "from sklearn.preprocessing import MinMaxScaler\n",
    "scaler = MinMaxScaler()\n",
    "x = scaler.fit_transform(x1)\n",
    "x = x.astype('float32')\n",
    "y = y.astype('float32')"
   ]
  },
  {
   "cell_type": "code",
   "execution_count": null,
   "id": "32a9f025",
   "metadata": {},
   "outputs": [],
   "source": [
    "#Split data into training and test data sets\n",
    "x_train, x_test, y_train, y_test = train_test_split(\n",
    "    x, y, test_size=0.1, random_state=42)"
   ]
  },
  {
   "cell_type": "code",
   "execution_count": null,
   "id": "14b2bc7f",
   "metadata": {},
   "outputs": [],
   "source": [
    "#Create the network model\n",
    "#I used dropout and L1/L2 regulation to help avoid overfitting my data\n",
    "model = Sequential()\n",
    "model.add(Dense(64, input_dim=x.shape[1], activation='relu', kernel_regularizer=regularizers.l2(0.01)))\n",
    "model.add(Dropout(0.5))\n",
    "model.add(Dense(32, activation='relu', kernel_regularizer=regularizers.l2(0.01)))\n",
    "model.add(Dropout(0.5))\n",
    "model.add(Dense(1 if len(np.unique(y)) == 2 else len(np.unique(y)), activation='sigmoid' if len(np.unique(y)) == 2 else 'softmax'))\n",
    "\n",
    "#Compile the model    \n",
    "model.compile(optimizer='adam', loss='binary_crossentropy', metrics=['accuracy'])\n",
    "\n",
    "model.summary()\n",
    "\n",
    "#Run the training loop\n",
    "history = model.fit(x_train, y_train, \n",
    "                    epochs=16, \n",
    "                    batch_size=50, \n",
    "                    validation_data=(x_test, y_test))"
   ]
  },
  {
   "cell_type": "code",
   "execution_count": null,
   "id": "b11865e4",
   "metadata": {
    "scrolled": true
   },
   "outputs": [],
   "source": [
    "#Evaluate the trained model\n",
    "score = model.evaluate(x, y, verbose=0)\n",
    "print('Test loss:', score[0])\n",
    "print('Test accuracy:', score[1])"
   ]
  }
 ],
 "metadata": {
  "kernelspec": {
   "display_name": "Python 3 (ipykernel)",
   "language": "python",
   "name": "python3"
  },
  "language_info": {
   "codemirror_mode": {
    "name": "ipython",
    "version": 3
   },
   "file_extension": ".py",
   "mimetype": "text/x-python",
   "name": "python",
   "nbconvert_exporter": "python",
   "pygments_lexer": "ipython3",
   "version": "3.9.12"
  }
 },
 "nbformat": 4,
 "nbformat_minor": 5
}
